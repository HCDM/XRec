{
 "cells": [
  {
   "cell_type": "code",
   "execution_count": 1,
   "metadata": {
    "collapsed": true
   },
   "outputs": [],
   "source": [
    "import pandas as pd\n",
    "%matplotlib inline\n",
    "import matplotlib.pyplot as plt\n",
    "import matplotlib\n",
    "matplotlib.rcParams['ps.useafm']=True\n",
    "matplotlib.rcParams['pdf.use14corefonts']=True\n",
    "matplotlib.rcParams['text.usetex']=True"
   ]
  },
  {
   "cell_type": "code",
   "execution_count": 2,
   "metadata": {},
   "outputs": [
    {
     "data": {
      "text/html": [
       "<div>\n",
       "<style scoped>\n",
       "    .dataframe tbody tr th:only-of-type {\n",
       "        vertical-align: middle;\n",
       "    }\n",
       "\n",
       "    .dataframe tbody tr th {\n",
       "        vertical-align: top;\n",
       "    }\n",
       "\n",
       "    .dataframe thead th {\n",
       "        text-align: right;\n",
       "    }\n",
       "</style>\n",
       "<table border=\"1\" class=\"dataframe\">\n",
       "  <thead>\n",
       "    <tr style=\"text-align: right;\">\n",
       "      <th></th>\n",
       "      <th>FMF</th>\n",
       "      <th>NMF</th>\n",
       "      <th>BPRMF</th>\n",
       "      <th>FacT</th>\n",
       "    </tr>\n",
       "  </thead>\n",
       "  <tbody>\n",
       "    <tr>\n",
       "      <th>5</th>\n",
       "      <td>0.19500</td>\n",
       "      <td>0.15864</td>\n",
       "      <td>0.20572</td>\n",
       "      <td>0.22678</td>\n",
       "    </tr>\n",
       "    <tr>\n",
       "      <th>10</th>\n",
       "      <td>0.19632</td>\n",
       "      <td>0.16086</td>\n",
       "      <td>0.20770</td>\n",
       "      <td>0.23528</td>\n",
       "    </tr>\n",
       "    <tr>\n",
       "      <th>20</th>\n",
       "      <td>0.19768</td>\n",
       "      <td>0.16358</td>\n",
       "      <td>0.20926</td>\n",
       "      <td>0.23692</td>\n",
       "    </tr>\n",
       "    <tr>\n",
       "      <th>50</th>\n",
       "      <td>0.19418</td>\n",
       "      <td>0.16330</td>\n",
       "      <td>0.20694</td>\n",
       "      <td>0.23060</td>\n",
       "    </tr>\n",
       "    <tr>\n",
       "      <th>100</th>\n",
       "      <td>0.19882</td>\n",
       "      <td>0.16256</td>\n",
       "      <td>0.20944</td>\n",
       "      <td>0.22952</td>\n",
       "    </tr>\n",
       "    <tr>\n",
       "      <th>200</th>\n",
       "      <td>0.19900</td>\n",
       "      <td>0.16482</td>\n",
       "      <td>0.21032</td>\n",
       "      <td>0.23816</td>\n",
       "    </tr>\n",
       "    <tr>\n",
       "      <th>500</th>\n",
       "      <td>0.20002</td>\n",
       "      <td>0.16536</td>\n",
       "      <td>0.20890</td>\n",
       "      <td>0.23194</td>\n",
       "    </tr>\n",
       "    <tr>\n",
       "      <th>1000</th>\n",
       "      <td>0.19660</td>\n",
       "      <td>0.16560</td>\n",
       "      <td>0.21076</td>\n",
       "      <td>0.22672</td>\n",
       "    </tr>\n",
       "  </tbody>\n",
       "</table>\n",
       "</div>"
      ],
      "text/plain": [
       "          FMF      NMF    BPRMF     FacT\n",
       "5     0.19500  0.15864  0.20572  0.22678\n",
       "10    0.19632  0.16086  0.20770  0.23528\n",
       "20    0.19768  0.16358  0.20926  0.23692\n",
       "50    0.19418  0.16330  0.20694  0.23060\n",
       "100   0.19882  0.16256  0.20944  0.22952\n",
       "200   0.19900  0.16482  0.21032  0.23816\n",
       "500   0.20002  0.16536  0.20890  0.23194\n",
       "1000  0.19660  0.16560  0.21076  0.22672"
      ]
     },
     "execution_count": 2,
     "metadata": {},
     "output_type": "execute_result"
    }
   ],
   "source": [
    "amazon = pd.read_excel(\"./latent factor.xlsx\").iloc[:8, :4]\n",
    "amazon"
   ]
  },
  {
   "cell_type": "code",
   "execution_count": 3,
   "metadata": {},
   "outputs": [
    {
     "data": {
      "text/html": [
       "<div>\n",
       "<style scoped>\n",
       "    .dataframe tbody tr th:only-of-type {\n",
       "        vertical-align: middle;\n",
       "    }\n",
       "\n",
       "    .dataframe tbody tr th {\n",
       "        vertical-align: top;\n",
       "    }\n",
       "\n",
       "    .dataframe thead th {\n",
       "        text-align: right;\n",
       "    }\n",
       "</style>\n",
       "<table border=\"1\" class=\"dataframe\">\n",
       "  <thead>\n",
       "    <tr style=\"text-align: right;\">\n",
       "      <th></th>\n",
       "      <th>FMF</th>\n",
       "      <th>NMF</th>\n",
       "      <th>BPRMF</th>\n",
       "      <th>FacT</th>\n",
       "    </tr>\n",
       "  </thead>\n",
       "  <tbody>\n",
       "    <tr>\n",
       "      <th>5</th>\n",
       "      <td>0.17690</td>\n",
       "      <td>0.13404</td>\n",
       "      <td>0.22052</td>\n",
       "      <td>0.23958</td>\n",
       "    </tr>\n",
       "    <tr>\n",
       "      <th>10</th>\n",
       "      <td>0.17922</td>\n",
       "      <td>0.13328</td>\n",
       "      <td>0.21972</td>\n",
       "      <td>0.24808</td>\n",
       "    </tr>\n",
       "    <tr>\n",
       "      <th>20</th>\n",
       "      <td>0.18816</td>\n",
       "      <td>0.13924</td>\n",
       "      <td>0.22596</td>\n",
       "      <td>0.24768</td>\n",
       "    </tr>\n",
       "    <tr>\n",
       "      <th>50</th>\n",
       "      <td>0.19052</td>\n",
       "      <td>0.13648</td>\n",
       "      <td>0.22604</td>\n",
       "      <td>0.24340</td>\n",
       "    </tr>\n",
       "    <tr>\n",
       "      <th>100</th>\n",
       "      <td>0.18994</td>\n",
       "      <td>0.13888</td>\n",
       "      <td>0.22452</td>\n",
       "      <td>0.24232</td>\n",
       "    </tr>\n",
       "    <tr>\n",
       "      <th>200</th>\n",
       "      <td>0.18796</td>\n",
       "      <td>0.14104</td>\n",
       "      <td>0.22168</td>\n",
       "      <td>0.24452</td>\n",
       "    </tr>\n",
       "    <tr>\n",
       "      <th>500</th>\n",
       "      <td>0.18632</td>\n",
       "      <td>0.13918</td>\n",
       "      <td>0.22678</td>\n",
       "      <td>0.24954</td>\n",
       "    </tr>\n",
       "    <tr>\n",
       "      <th>1000</th>\n",
       "      <td>0.18452</td>\n",
       "      <td>0.13934</td>\n",
       "      <td>0.22376</td>\n",
       "      <td>0.23952</td>\n",
       "    </tr>\n",
       "  </tbody>\n",
       "</table>\n",
       "</div>"
      ],
      "text/plain": [
       "          FMF      NMF    BPRMF     FacT\n",
       "5     0.17690  0.13404  0.22052  0.23958\n",
       "10    0.17922  0.13328  0.21972  0.24808\n",
       "20    0.18816  0.13924  0.22596  0.24768\n",
       "50    0.19052  0.13648  0.22604  0.24340\n",
       "100   0.18994  0.13888  0.22452  0.24232\n",
       "200   0.18796  0.14104  0.22168  0.24452\n",
       "500   0.18632  0.13918  0.22678  0.24954\n",
       "1000  0.18452  0.13934  0.22376  0.23952"
      ]
     },
     "execution_count": 3,
     "metadata": {},
     "output_type": "execute_result"
    }
   ],
   "source": [
    "yelp = pd.read_excel(\"./latent factor.xlsx\").iloc[14:, :4]\n",
    "yelp"
   ]
  },
  {
   "cell_type": "code",
   "execution_count": 8,
   "metadata": {},
   "outputs": [
    {
     "data": {
      "image/png": "[encoded data removed]",
      "text/plain": [
       "<Figure size 864x288 with 2 Axes>"
      ]
     },
     "metadata": {},
     "output_type": "display_data"
    }
   ],
   "source": [
    "fig, axes = plt.subplots(nrows=1, ncols=2, figsize=(12, 4))\n",
    "ax = axes.flatten()\n",
    "\n",
    "pd.DataFrame(amazon).plot(ax=ax[0], style=['bs-', 'y-', 'g^-', 'ro-', 'ro-', 'k*-', 'y-', 'bs-'])\n",
    "ax[0].set_xlabel(\"latent dimension\", fontsize=22, fontweight='heavy')\n",
    "ax[0].set_ylabel(\"Amazon NDCG@50\", fontsize=15, fontweight='heavy')\n",
    "ax[0].legend(loc='lower right', bbox_to_anchor=(1, 0.13))\n",
    "\n",
    "pd.DataFrame(yelp).plot(ax=ax[1], style=['bs-', 'y-', 'g^-', 'ro-', 'ro-', 'k*-', 'y-', 'bs-'])\n",
    "ax[1].set_xlabel(\"latent dimension\", fontsize=22, fontweight='heavy')\n",
    "ax[1].set_ylabel(\"Yelp NDCG@50\", fontsize=15, fontweight='heavy')\n",
    "ax[1].legend(loc='lower right', bbox_to_anchor=(1, 0.1))\n",
    "\n",
    "fig.tight_layout()\n",
    "plt.savefig(\"./latent-factor.pdf\", format='pdf')"
   ]
  },
  {
   "cell_type": "code",
   "execution_count": null,
   "metadata": {
    "collapsed": true
   },
   "outputs": [],
   "source": []
  }
 ],
 "metadata": {
  "kernelspec": {
   "display_name": "Python 3",
   "language": "python",
   "name": "python3"
  },
  "language_info": {
   "codemirror_mode": {
    "name": "ipython",
    "version": 3
   },
   "file_extension": ".py",
   "mimetype": "text/x-python",
   "name": "python",
   "nbconvert_exporter": "python",
   "pygments_lexer": "ipython3",
   "version": "3.5.2"
  }
 },
 "nbformat": 4,
 "nbformat_minor": 2
}
