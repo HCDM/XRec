{
 "cells": [
  {
   "cell_type": "code",
   "execution_count": 1,
   "metadata": {
    "collapsed": true
   },
   "outputs": [],
   "source": [
    "import pandas as pd\n",
    "%matplotlib inline\n",
    "import matplotlib.pyplot as plt\n",
    "import matplotlib\n",
    "matplotlib.rcParams['ps.useafm']=True\n",
    "matplotlib.rcParams['pdf.use14corefonts']=True\n",
    "matplotlib.rcParams['text.usetex']=True"
   ]
  },
  {
   "cell_type": "code",
   "execution_count": 2,
   "metadata": {},
   "outputs": [
    {
     "data": {
      "text/html": [
       "<div>\n",
       "<style scoped>\n",
       "    .dataframe tbody tr th:only-of-type {\n",
       "        vertical-align: middle;\n",
       "    }\n",
       "\n",
       "    .dataframe tbody tr th {\n",
       "        vertical-align: top;\n",
       "    }\n",
       "\n",
       "    .dataframe thead th {\n",
       "        text-align: right;\n",
       "    }\n",
       "</style>\n",
       "<table border=\"1\" class=\"dataframe\">\n",
       "  <thead>\n",
       "    <tr style=\"text-align: right;\">\n",
       "      <th></th>\n",
       "      <th>FacT</th>\n",
       "      <th>MTER</th>\n",
       "      <th>EFM</th>\n",
       "      <th>BPRMF</th>\n",
       "    </tr>\n",
       "  </thead>\n",
       "  <tbody>\n",
       "    <tr>\n",
       "      <th>30</th>\n",
       "      <td>0.15090</td>\n",
       "      <td>0.14690</td>\n",
       "      <td>0.13846</td>\n",
       "      <td>0.13856</td>\n",
       "    </tr>\n",
       "    <tr>\n",
       "      <th>40</th>\n",
       "      <td>0.17886</td>\n",
       "      <td>0.17170</td>\n",
       "      <td>0.15900</td>\n",
       "      <td>0.15930</td>\n",
       "    </tr>\n",
       "    <tr>\n",
       "      <th>50</th>\n",
       "      <td>0.20318</td>\n",
       "      <td>0.19420</td>\n",
       "      <td>0.17098</td>\n",
       "      <td>0.17684</td>\n",
       "    </tr>\n",
       "    <tr>\n",
       "      <th>60</th>\n",
       "      <td>0.21086</td>\n",
       "      <td>0.20380</td>\n",
       "      <td>0.18878</td>\n",
       "      <td>0.19168</td>\n",
       "    </tr>\n",
       "    <tr>\n",
       "      <th>70</th>\n",
       "      <td>0.22026</td>\n",
       "      <td>0.21772</td>\n",
       "      <td>0.19352</td>\n",
       "      <td>0.20034</td>\n",
       "    </tr>\n",
       "    <tr>\n",
       "      <th>80</th>\n",
       "      <td>0.23630</td>\n",
       "      <td>0.22334</td>\n",
       "      <td>0.20562</td>\n",
       "      <td>0.20704</td>\n",
       "    </tr>\n",
       "  </tbody>\n",
       "</table>\n",
       "</div>"
      ],
      "text/plain": [
       "       FacT     MTER      EFM    BPRMF\n",
       "30  0.15090  0.14690  0.13846  0.13856\n",
       "40  0.17886  0.17170  0.15900  0.15930\n",
       "50  0.20318  0.19420  0.17098  0.17684\n",
       "60  0.21086  0.20380  0.18878  0.19168\n",
       "70  0.22026  0.21772  0.19352  0.20034\n",
       "80  0.23630  0.22334  0.20562  0.20704"
      ]
     },
     "execution_count": 2,
     "metadata": {},
     "output_type": "execute_result"
    }
   ],
   "source": [
    "amazon = pd.read_excel(\"./training_data.xlsx\").iloc[:6, :4]\n",
    "amazon"
   ]
  },
  {
   "cell_type": "code",
   "execution_count": 3,
   "metadata": {},
   "outputs": [
    {
     "data": {
      "text/html": [
       "<div>\n",
       "<style scoped>\n",
       "    .dataframe tbody tr th:only-of-type {\n",
       "        vertical-align: middle;\n",
       "    }\n",
       "\n",
       "    .dataframe tbody tr th {\n",
       "        vertical-align: top;\n",
       "    }\n",
       "\n",
       "    .dataframe thead th {\n",
       "        text-align: right;\n",
       "    }\n",
       "</style>\n",
       "<table border=\"1\" class=\"dataframe\">\n",
       "  <thead>\n",
       "    <tr style=\"text-align: right;\">\n",
       "      <th></th>\n",
       "      <th>FacT</th>\n",
       "      <th>MTER</th>\n",
       "      <th>EFM</th>\n",
       "      <th>BPRMF</th>\n",
       "    </tr>\n",
       "  </thead>\n",
       "  <tbody>\n",
       "    <tr>\n",
       "      <th>30</th>\n",
       "      <td>0.15326</td>\n",
       "      <td>0.15216</td>\n",
       "      <td>0.14180</td>\n",
       "      <td>0.14068</td>\n",
       "    </tr>\n",
       "    <tr>\n",
       "      <th>40</th>\n",
       "      <td>0.18860</td>\n",
       "      <td>0.18750</td>\n",
       "      <td>0.16284</td>\n",
       "      <td>0.16464</td>\n",
       "    </tr>\n",
       "    <tr>\n",
       "      <th>50</th>\n",
       "      <td>0.20328</td>\n",
       "      <td>0.20324</td>\n",
       "      <td>0.17618</td>\n",
       "      <td>0.18000</td>\n",
       "    </tr>\n",
       "    <tr>\n",
       "      <th>60</th>\n",
       "      <td>0.22338</td>\n",
       "      <td>0.21998</td>\n",
       "      <td>0.18170</td>\n",
       "      <td>0.20016</td>\n",
       "    </tr>\n",
       "    <tr>\n",
       "      <th>70</th>\n",
       "      <td>0.23652</td>\n",
       "      <td>0.22618</td>\n",
       "      <td>0.18636</td>\n",
       "      <td>0.21368</td>\n",
       "    </tr>\n",
       "    <tr>\n",
       "      <th>80</th>\n",
       "      <td>0.24882</td>\n",
       "      <td>0.23654</td>\n",
       "      <td>0.19034</td>\n",
       "      <td>0.22138</td>\n",
       "    </tr>\n",
       "  </tbody>\n",
       "</table>\n",
       "</div>"
      ],
      "text/plain": [
       "       FacT     MTER      EFM    BPRMF\n",
       "30  0.15326  0.15216  0.14180  0.14068\n",
       "40  0.18860  0.18750  0.16284  0.16464\n",
       "50  0.20328  0.20324  0.17618  0.18000\n",
       "60  0.22338  0.21998  0.18170  0.20016\n",
       "70  0.23652  0.22618  0.18636  0.21368\n",
       "80  0.24882  0.23654  0.19034  0.22138"
      ]
     },
     "execution_count": 3,
     "metadata": {},
     "output_type": "execute_result"
    }
   ],
   "source": [
    "yelp = pd.read_excel(\"./training_data.xlsx\").iloc[10:, :4]\n",
    "yelp"
   ]
  },
  {
   "cell_type": "code",
   "execution_count": 9,
   "metadata": {},
   "outputs": [
    {
     "data": {
      "image/png": "[encoded data removed]",
      "text/plain": [
       "<Figure size 648x216 with 2 Axes>"
      ]
     },
     "metadata": {},
     "output_type": "display_data"
    }
   ],
   "source": [
    "fig, axes = plt.subplots(nrows=1, ncols=2, figsize=(9, 3))\n",
    "ax = axes.flatten()\n",
    "\n",
    "pd.DataFrame(amazon).plot(ax=ax[0], style=['ro-', 'bs-', 'y-', 'g^-', 'ro-', 'k*-', 'y-', 'bs-'])\n",
    "ax[0].set_xlabel(\"ratio of training data (\\%)\", fontsize=20, fontweight='heavy')\n",
    "ax[0].set_ylabel(\"Amazon NDCG@50\", fontsize=15, fontweight='heavy')\n",
    "ax[0].legend(loc='lower right', ncol=2)\n",
    "\n",
    "pd.DataFrame(yelp).plot(ax=ax[1], style=['ro-', 'bs-', 'y-', 'g^-', 'ro-', 'k*-', 'y-', 'bs-'])\n",
    "ax[1].set_xlabel(\"ratio of training data (\\%)\", fontsize=20, fontweight='heavy')\n",
    "ax[1].set_ylabel(\"Yelp NDCG@50\", fontsize=15, fontweight='heavy')\n",
    "ax[1].legend(loc='lower right', ncol=2)\n",
    "\n",
    "fig.tight_layout()\n",
    "plt.savefig(\"./training_data.pdf\", format='pdf')"
   ]
  },
  {
   "cell_type": "code",
   "execution_count": null,
   "metadata": {
    "collapsed": true
   },
   "outputs": [],
   "source": []
  }
 ],
 "metadata": {
  "kernelspec": {
   "display_name": "Python 3",
   "language": "python",
   "name": "python3"
  },
  "language_info": {
   "codemirror_mode": {
    "name": "ipython",
    "version": 3
   },
   "file_extension": ".py",
   "mimetype": "text/x-python",
   "name": "python",
   "nbconvert_exporter": "python",
   "pygments_lexer": "ipython3",
   "version": "3.5.2"
  }
 },
 "nbformat": 4,
 "nbformat_minor": 2
}
